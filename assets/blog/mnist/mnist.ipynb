{
 "cells": [
  {
   "cell_type": "markdown",
   "metadata": {},
   "source": [
    "Let's begin by importing the necessary modules. We'll use matplotlib for plotting, pytorch as our machine learning framework, the time module for tracking the length of calculations, and numpy for array manipulations. "
   ]
  },
  {
   "cell_type": "code",
   "execution_count": 1,
   "metadata": {},
   "outputs": [],
   "source": [
    "import matplotlib.pyplot as plt\n",
    "import time\n",
    "import numpy as np\n",
    "\n",
    "import torch\n",
    "import torchvision\n",
    "import torch.nn as nn\n",
    "import torch.nn.functional as F\n",
    "from torch.utils.data import DataLoader"
   ]
  },
  {
   "cell_type": "markdown",
   "metadata": {},
   "source": [
    "Next, let's acquire and load the MNIST dataset. Since this is a common dataset, the torchvision module has a class that simplifies this procedure. The following lines of code downloads the MNIST dataset, which is conveniently divided into a test and training set. The dataset is stored in the directory assigned to ``data_dir``. \n",
    "\n",
    "The MNIST dataset provides images in a Python Image Library (PIL) format. We'll have torch automatically apply a transform to these images to convert them to tensors."
   ]
  },
  {
   "cell_type": "code",
   "execution_count": 2,
   "metadata": {},
   "outputs": [
    {
     "name": "stdout",
     "output_type": "stream",
     "text": [
      "Number of images in training set: 60000\n",
      "Number of images in test set: 10000\n"
     ]
    }
   ],
   "source": [
    "data_dir = './data'\n",
    "pil2tnsr = torchvision.transforms.ToTensor()\n",
    "\n",
    "train = torchvision.datasets.MNIST(data_dir, train=True, download=True, transform=pil2tnsr)\n",
    "test = torchvision.datasets.MNIST(data_dir, train=False, download=True, transform=pil2tnsr)\n",
    "\n",
    "print(f'Number of images in training set: {len(train)}')\n",
    "print(f'Number of images in test set: {len(test)}')\n"
   ]
  },
  {
   "cell_type": "markdown",
   "metadata": {},
   "source": [
    "Now that we have the MNIST dataset, let's see what images look like. The variable ``index`` specifies an image number in our training set. Change it to explore other entries in the dataset."
   ]
  },
  {
   "cell_type": "code",
   "execution_count": 3,
   "metadata": {},
   "outputs": [
    {
     "name": "stdout",
     "output_type": "stream",
     "text": [
      "Image label: 3\n",
      "Image size: (28, 28)\n"
     ]
    },
    {
     "data": {
      "image/png": "[encoded data removed]",
      "text/plain": [
       "<Figure size 432x288 with 1 Axes>"
      ]
     },
     "metadata": {
      "needs_background": "light"
     },
     "output_type": "display_data"
    }
   ],
   "source": [
    "index = 10\n",
    "img, label = train[index]\n",
    "\n",
    "tensr2pil = torchvision.transforms.ToPILImage()\n",
    "img_pil = tensr2pil(img)\n",
    "\n",
    "plt.figure()\n",
    "plt.imshow(img_pil)\n",
    "\n",
    "print(f'Image label: {label}')\n",
    "print(f'Image size: {img_pil.size}')"
   ]
  },
  {
   "cell_type": "markdown",
   "metadata": {},
   "source": [
    "PyTorch provides useful tools to simplify loading and processing our data. Since we used torchvision to get the MNIST dataset,  ``train`` and ``test`` are already objects which PyTorch recognizes as datasets. We can pass them to DataLoader, which simplifies iterating through the dataset. Setting batch_size to 8 means we'll iterate through 8 images/labels at a time, and setting shuffle to True means that data is shuffled after we have iterated through the entire dataset."
   ]
  },
  {
   "cell_type": "code",
   "execution_count": 4,
   "metadata": {},
   "outputs": [],
   "source": [
    "train_loader = DataLoader(train, batch_size=8, shuffle=True)\n",
    "test_loader = DataLoader(test, batch_size=8, shuffle=True)"
   ]
  },
  {
   "cell_type": "markdown",
   "metadata": {},
   "source": [
    "Here we define our neural network. We use a fairly simple convolutional neural network architecture. The first part of the network has three repetitions of a convolutional layer with a ReLU activation followed by a maxpooling layer. Afterwards, there are two fully connected layers with a ReLU activation between them.\n",
    "\n",
    "![title](nn_relu.png)"
   ]
  },
  {
   "cell_type": "code",
   "execution_count": 5,
   "metadata": {},
   "outputs": [],
   "source": [
    "class Net(nn.Module):\n",
    "\n",
    "    def __init__(self):\n",
    "        super(Net, self).__init__()\n",
    "        \n",
    "        self.conv1 = nn.Conv2d(1, 32, 5)\n",
    "        self.conv2 = nn.Conv2d(32, 32, 5)\n",
    "        self.conv3 = nn.Conv2d(32, 64, 3)\n",
    "        self.dense1 = nn.Linear(64, 64)\n",
    "        self.dense2 = nn.Linear(64, 10)\n",
    "        self.maxpool1 = nn.MaxPool2d((2, 2), stride=(2,2))\n",
    "        \n",
    "        \n",
    "    def forward(self, x):\n",
    "        #Conv/pool: (Batch size, 1, 28,28 ) -> (Batch size, 32, 24, 24) -> (Batch size, 32, 12, 12)\n",
    "        x = F.relu(self.conv1(x))\n",
    "        x = self.maxpool1(x)\n",
    "        \n",
    "        #Conv/pool: (Batch size, 32, 12, 12) -> (Batch size, 32, 8, 8) -> (Batch size, 32, 4, 4)\n",
    "        x = F.relu(self.conv2(x))\n",
    "        x = self.maxpool1(x)\n",
    "        \n",
    "        #Conv/pool: (Batch size, 32, 4, 4) -> (Batch size, 64, 2, 2) -> (Batch size, 64, 1, 1)\n",
    "        x = F.relu(self.conv3(x))\n",
    "        x = self.maxpool1(x)\n",
    "        \n",
    "        #Flatten: (Batch size, 64, 1, 1) -> (Batch size, 64*1*1)\n",
    "        x = x.view(-1, 64)\n",
    "        \n",
    "        #Dense Layer 1: (Batch size, 64) -> (Batch size, 64)\n",
    "        x = F.relu(self.dense1(x))\n",
    "        \n",
    "        #Dense Layer 2: (Batch size, 64) -> (Batch size, 10)\n",
    "        x = self.dense2(x)\n",
    "        \n",
    "        return x\n",
    "        "
   ]
  },
  {
   "cell_type": "markdown",
   "metadata": {},
   "source": [
    "Let's instantiate our neural network. We'll also need to choose a loss function. Here we've selected Cross Entropy Loss, which is appropriate when you want your neural network to assign your input to one of several classes. We've selected the Adam optimization algorithm to optimize our network weights such that they minimize our loss function. "
   ]
  },
  {
   "cell_type": "code",
   "execution_count": 6,
   "metadata": {},
   "outputs": [],
   "source": [
    "model = Net()\n",
    "\n",
    "loss_function = nn.CrossEntropyLoss()\n",
    "optimizer = torch.optim.Adam(model.parameters(), lr=1e-3)"
   ]
  },
  {
   "cell_type": "markdown",
   "metadata": {},
   "source": [
    "We have everything we need to go. This code iterates through our data, comparing the model prediction with the labels, and updating our weights to improve our neural networks ability. The ``num_epochs`` parameters determine how many time we cycle through our dataset."
   ]
  },
  {
   "cell_type": "code",
   "execution_count": 7,
   "metadata": {
    "scrolled": true
   },
   "outputs": [
    {
     "name": "stdout",
     "output_type": "stream",
     "text": [
      "Epoch: 1/2\n",
      "Loss: 0.30464214020967484\n",
      "Loss: 0.1003953853920102\n",
      "Loss: 0.0807381663620472\n",
      "Finished in 107.92s\n",
      "Accuracy on train set: 95.54833333333333\n",
      "Epoch: 2/2\n",
      "Loss: 0.04743631257861853\n",
      "Loss: 0.05301460570842027\n",
      "Loss: 0.05167941872775555\n",
      "Finished in 100.07s\n",
      "Accuracy on train set: 98.435\n"
     ]
    }
   ],
   "source": [
    "\n",
    "torch.manual_seed(1)\n",
    "\n",
    "num_epochs = 2 \n",
    "\n",
    "#Initalize counters\n",
    "running_loss = 0.0\n",
    "correct = 0.0\n",
    "total = 0.0\n",
    "\n",
    "for epoch in range(num_epochs):\n",
    "    print(f'Epoch: {epoch+1}/{num_epochs}')\n",
    "    t_start = time.time()\n",
    "    \n",
    "    #Iterate through mini-batches\n",
    "    for i, data in enumerate(train_loader,0):\n",
    "        \n",
    "        #Optimize the neural network\n",
    "        inputs, labels = data\n",
    "        y_pred = model(inputs)\n",
    "        loss = loss_function(y_pred, labels)\n",
    "        optimizer.zero_grad()\n",
    "        loss.backward()\n",
    "        optimizer.step()\n",
    "        \n",
    "        #Track the accuracy of its predictions\n",
    "        _, predicted = torch.max(y_pred.data, 1)\n",
    "        total += labels.size(0)\n",
    "        correct += (predicted == labels).sum().item()\n",
    "        \n",
    "        #Track the loss function, and output it regularly\n",
    "        running_loss += loss.item()\n",
    "        if i % 2000 == 1999:\n",
    "            print(f'Loss: {running_loss/2000}')\n",
    "            running_loss = 0.0\n",
    "        \n",
    "    \n",
    "    print(f'Finished in {time.time() - t_start:.2f}s')\n",
    "    print(f'Accuracy on train set: {100*correct/total}')\n",
    "    \n",
    "    running_loss = 0.0\n",
    "    correct = 0.0\n",
    "    total = 0.0\n",
    "            \n",
    "        \n",
    "    "
   ]
  },
  {
   "cell_type": "markdown",
   "metadata": {},
   "source": [
    "Great, our neural network is performing well. After 2 epochs of training, our neural network can correctly label images in the training set with 98.4% accuracy. How does it do on data it hasn't seen before? Let's check it's performance on the test set."
   ]
  },
  {
   "cell_type": "code",
   "execution_count": 8,
   "metadata": {},
   "outputs": [
    {
     "name": "stdout",
     "output_type": "stream",
     "text": [
      "Accuracy on test set: 98.85\n"
     ]
    }
   ],
   "source": [
    "correct = 0.0\n",
    "total = 0.0\n",
    "with torch.no_grad():\n",
    "    for data in test_loader:\n",
    "        inputs, labels = data\n",
    "        y_pred = model(inputs)\n",
    "        _, predicted = torch.max(y_pred.data, 1)\n",
    "        total += labels.size(0)\n",
    "        correct += (predicted == labels).sum().item()\n",
    "        \n",
    "print(f'Accuracy on test set: {100*correct/total}')"
   ]
  },
  {
   "cell_type": "markdown",
   "metadata": {},
   "source": [
    "We see a slightly higher accuracy on the test set than on the training set. This means we haven't overfitted the model, or in other words, in generalizes well. \n",
    "\n",
    "Finally, let's see our predictions. "
   ]
  },
  {
   "cell_type": "code",
   "execution_count": 9,
   "metadata": {},
   "outputs": [
    {
     "data": {
      "image/png": "[encoded data removed]",
      "text/plain": [
       "<Figure size 432x288 with 1 Axes>"
      ]
     },
     "metadata": {
      "needs_background": "light"
     },
     "output_type": "display_data"
    },
    {
     "name": "stdout",
     "output_type": "stream",
     "text": [
      "tensor([7, 4, 6, 5, 1, 0, 9, 5])\n"
     ]
    }
   ],
   "source": [
    "dataiter = iter(test_loader)\n",
    "images, labels = dataiter.next()\n",
    "\n",
    "def imshow(img):\n",
    "    npimg = img.numpy()\n",
    "    plt.imshow(np.transpose(npimg, (1, 2, 0)))\n",
    "\n",
    "imshow(torchvision.utils.make_grid(images))\n",
    "plt.show()\n",
    "\n",
    "print(labels)"
   ]
  },
  {
   "cell_type": "markdown",
   "metadata": {},
   "source": [
    "There you have it, a fully trained and functioning neural network capable of identifying handwritten digits with 98% accuracy. Similar networks have been deployed before to help read addresses on envelopes and writing on cheques.\n",
    "\n",
    "Let's summarize the ground we covered in this notebook:\n",
    "1. Loading Data\n",
    "2. Creating a neural network\n",
    "3. Selecting a loss function\n",
    "4. Optimizing your model\n",
    "5. Calculating the train and test set accuracy\n",
    "6. Making predictions with your model\n",
    "\n"
   ]
  },
  {
   "cell_type": "markdown",
   "metadata": {},
   "source": [
    "The process used in this notebook is typical of machine learning projects. The code here is a good starting template for your own projects!"
   ]
  },
  {
   "cell_type": "code",
   "execution_count": null,
   "metadata": {},
   "outputs": [],
   "source": []
  }
 ],
 "metadata": {
  "kernelspec": {
   "display_name": "Python 3",
   "language": "python",
   "name": "python3"
  },
  "language_info": {
   "codemirror_mode": {
    "name": "ipython",
    "version": 3
   },
   "file_extension": ".py",
   "mimetype": "text/x-python",
   "name": "python",
   "nbconvert_exporter": "python",
   "pygments_lexer": "ipython3",
   "version": "3.7.1"
  }
 },
 "nbformat": 4,
 "nbformat_minor": 2
}
